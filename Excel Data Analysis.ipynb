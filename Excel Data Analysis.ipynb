{
 "cells": [
  {
   "cell_type": "code",
   "execution_count": 1,
   "id": "10a61cc8-9ab8-4885-9bb4-02c537c0b9fb",
   "metadata": {},
   "outputs": [
    {
     "name": "stdout",
     "output_type": "stream",
     "text": [
      "Excel Data Analysis \n"
     ]
    }
   ],
   "source": [
    "print(\"Excel Data Analysis \")"
   ]
  },
  {
   "cell_type": "code",
   "execution_count": 3,
   "id": "06e3353e-f960-4f00-b770-509847f02958",
   "metadata": {},
   "outputs": [
    {
     "name": "stdout",
     "output_type": "stream",
     "text": [
      "ITI BI Track>>Excel Data Analysis\n"
     ]
    }
   ],
   "source": [
    "print(\"ITI BI Track>>Excel Data Analysis\")"
   ]
  },
  {
   "cell_type": "code",
   "execution_count": 4,
   "id": "82af8fc6-d75d-4e60-b55f-39348ad69424",
   "metadata": {},
   "outputs": [
    {
     "name": "stdout",
     "output_type": "stream",
     "text": [
      "Lynda Data Anaylysis with Excel_Statistical_prospect\n"
     ]
    }
   ],
   "source": [
    "print(\"Lynda Data Anaylysis with Excel_Statistical_prospect\")"
   ]
  },
  {
   "cell_type": "code",
   "execution_count": 5,
   "id": "2bf47ed9-6328-4466-ba2f-52f24863027d",
   "metadata": {},
   "outputs": [
    {
     "name": "stdout",
     "output_type": "stream",
     "text": [
      "001 Welcome\n"
     ]
    }
   ],
   "source": [
    "print(\"001 Welcome\")"
   ]
  },
  {
   "cell_type": "code",
   "execution_count": 6,
   "id": "05c49532-08d8-4155-9a01-4dc1b3bc26aa",
   "metadata": {},
   "outputs": [
    {
     "name": "stdout",
     "output_type": "stream",
     "text": [
      "Data-Analysis Fundamentals with Excel\n"
     ]
    }
   ],
   "source": [
    "print(\"Data-Analysis Fundamentals with Excel\")"
   ]
  },
  {
   "cell_type": "code",
   "execution_count": 8,
   "id": "5b4f8683-8d43-476b-9ff6-430bddbb3a87",
   "metadata": {},
   "outputs": [
    {
     "name": "stdout",
     "output_type": "stream",
     "text": [
      "Prob Mean,Histogram\n"
     ]
    }
   ],
   "source": [
    "print(\"Prob Mean,Histogram\")"
   ]
  },
  {
   "cell_type": "code",
   "execution_count": 9,
   "id": "3b266d61-8fd7-4c04-bf2d-565744a4a1e4",
   "metadata": {},
   "outputs": [
    {
     "name": "stdout",
     "output_type": "stream",
     "text": [
      "Data and information visualization\n"
     ]
    }
   ],
   "source": [
    "print(\"Data and information visualization\")"
   ]
  },
  {
   "cell_type": "code",
   "execution_count": 10,
   "id": "df27b5e0-6d1f-438d-92e4-c88f84aeed72",
   "metadata": {},
   "outputs": [
    {
     "name": "stdout",
     "output_type": "stream",
     "text": [
      "Visualiza Data using Histogram\n"
     ]
    }
   ],
   "source": [
    "print(\"Visualiza Data using Histogram\")"
   ]
  },
  {
   "cell_type": "code",
   "execution_count": 11,
   "id": "6475bd91-cffe-4060-a8f8-e68298bd8722",
   "metadata": {},
   "outputs": [
    {
     "name": "stdout",
     "output_type": "stream",
     "text": [
      "Distance Amount Spend >>Predicted Amount Spend\n"
     ]
    }
   ],
   "source": [
    "print(\"Distance Amount Spend >>Predicted Amount Spend\")"
   ]
  },
  {
   "cell_type": "code",
   "execution_count": 12,
   "id": "8adc3285-5b39-42bd-819c-b33b0e9400aa",
   "metadata": {},
   "outputs": [
    {
     "name": "stdout",
     "output_type": "stream",
     "text": [
      "=FORECAST(d2,B2:B27,a2:a27)\n"
     ]
    }
   ],
   "source": [
    "print(\"=FORECAST(d2,B2:B27,a2:a27)\")"
   ]
  },
  {
   "cell_type": "code",
   "execution_count": 13,
   "id": "1aa82172-49ac-4cf8-a9ae-7326a5c9ce8e",
   "metadata": {},
   "outputs": [
    {
     "name": "stdout",
     "output_type": "stream",
     "text": [
      "Column1|Column2>>Covariance\n"
     ]
    }
   ],
   "source": [
    "print(\"Column1|Column2>>Covariance\")"
   ]
  },
  {
   "cell_type": "code",
   "execution_count": 14,
   "id": "209889bf-06fe-42a5-b97b-30cbecf53ab2",
   "metadata": {},
   "outputs": [
    {
     "name": "stdout",
     "output_type": "stream",
     "text": [
      "Correlation lookup table\n"
     ]
    }
   ],
   "source": [
    "print(\"Correlation lookup table\")"
   ]
  },
  {
   "cell_type": "code",
   "execution_count": 15,
   "id": "777c2a8e-574f-4a56-ac79-e1b878b1c12a",
   "metadata": {},
   "outputs": [
    {
     "name": "stdout",
     "output_type": "stream",
     "text": [
      "Correlation Formulas\n"
     ]
    }
   ],
   "source": [
    "print(\"Correlation Formulas\")"
   ]
  },
  {
   "cell_type": "code",
   "execution_count": 16,
   "id": "95471653-a815-4f2f-a76c-1e4eb95049ee",
   "metadata": {},
   "outputs": [
    {
     "name": "stdout",
     "output_type": "stream",
     "text": [
      "002 What you should know\n"
     ]
    }
   ],
   "source": [
    "print(\"002 What you should know\")"
   ]
  },
  {
   "cell_type": "code",
   "execution_count": 23,
   "id": "4866e9b9-8fb5-4fd8-a011-a9a30d7ed3d4",
   "metadata": {},
   "outputs": [
    {
     "data": {
      "text/plain": [
       "'\\nكيفية جمع البيانات وتنظيمها بشكل فعال.\\n1.How to Gather and organize data Effectively.\\nكيفية إنشاء الصيغ في Excel.\\n2.How to create Formulas in Excel.\\nكيفية استخدام المراجع النسبية والمطلقة\\n3.How to use Relative and Absolute References.\\nكيفية إنشاء المخططات البيانية.\\n4.How to create charts.\\n'"
      ]
     },
     "execution_count": 23,
     "metadata": {},
     "output_type": "execute_result"
    }
   ],
   "source": [
    "\"\"\"\n",
    "كيفية جمع البيانات وتنظيمها بشكل فعال.\n",
    "1.How to Gather and organize data Effectively.\n",
    "كيفية إنشاء الصيغ في Excel.\n",
    "2.How to create Formulas in Excel.\n",
    "كيفية استخدام المراجع النسبية والمطلقة\n",
    "3.How to use Relative and Absolute References.\n",
    "كيفية إنشاء المخططات البيانية.\n",
    "4.How to create charts.\n",
    "\"\"\""
   ]
  },
  {
   "cell_type": "code",
   "execution_count": 24,
   "id": "257e8b6f-f23a-44fb-a31e-1b7c34b4d32d",
   "metadata": {},
   "outputs": [
    {
     "name": "stdout",
     "output_type": "stream",
     "text": [
      "003 Using the Exercise files\n"
     ]
    }
   ],
   "source": [
    "print(\"003 Using the Exercise files\")"
   ]
  },
  {
   "cell_type": "code",
   "execution_count": 25,
   "id": "5eb3c4d1-4d33-4877-af41-9f5bebbcbd24",
   "metadata": {},
   "outputs": [
    {
     "name": "stdout",
     "output_type": "stream",
     "text": [
      "004 Calculating Mean and Median values\n"
     ]
    }
   ],
   "source": [
    "print(\"004 Calculating Mean and Median values\")"
   ]
  },
  {
   "cell_type": "code",
   "execution_count": 26,
   "id": "a29fe7c2-24bb-4506-a479-7b47ec9644e8",
   "metadata": {},
   "outputs": [
    {
     "name": "stdout",
     "output_type": "stream",
     "text": [
      "Days in Transit:-Mean,Median,Mode.\n"
     ]
    }
   ],
   "source": [
    "print(\"Days in Transit:-Mean,Median,Mode.\")"
   ]
  },
  {
   "cell_type": "code",
   "execution_count": 27,
   "id": "11bc3a83-ebaa-4362-a539-1364e9c938b4",
   "metadata": {},
   "outputs": [
    {
     "name": "stdout",
     "output_type": "stream",
     "text": [
      "Exercise Files > Chapter01 > MeansAndMedians\n"
     ]
    }
   ],
   "source": [
    "print(\"Exercise Files > Chapter01 > MeansAndMedians\")"
   ]
  },
  {
   "cell_type": "code",
   "execution_count": 28,
   "id": "08d16163-3599-4b50-bbe5-bd7df534d48d",
   "metadata": {},
   "outputs": [
    {
     "name": "stdout",
     "output_type": "stream",
     "text": [
      "Microsoft 365\n"
     ]
    }
   ],
   "source": [
    "print(\"Microsoft 365\")"
   ]
  },
  {
   "cell_type": "code",
   "execution_count": 29,
   "id": "7c082c4c-f72f-4ccd-9eb7-754c93f5092f",
   "metadata": {},
   "outputs": [
    {
     "name": "stdout",
     "output_type": "stream",
     "text": [
      "Excel>>MeansAndMedians.xlsx\n"
     ]
    }
   ],
   "source": [
    "print(\"Excel>>MeansAndMedians.xlsx\")"
   ]
  },
  {
   "cell_type": "code",
   "execution_count": 33,
   "id": "d2c5b750-612a-4f19-8f3a-3c259b64603f",
   "metadata": {},
   "outputs": [
    {
     "data": {
      "text/plain": [
       "'\\n>>Mean,Median,Mode Formulas;\\nMean>>[=AVERAGE(A2:A12)]\\nMedian>>[=MEDIAN(A2:A12)]\\nMode>>[=mode(A2:A12)]\\n'"
      ]
     },
     "execution_count": 33,
     "metadata": {},
     "output_type": "execute_result"
    }
   ],
   "source": [
    "\"\"\"\n",
    ">>Mean,Median,Mode Formulas;\n",
    "Mean>>[=AVERAGE(A2:A12)]\n",
    "Median>>[=MEDIAN(A2:A12)]\n",
    "Mode>>[=mode(A2:A12)]\n",
    "\"\"\""
   ]
  },
  {
   "cell_type": "code",
   "execution_count": 38,
   "id": "232fb051-83a2-4d7e-b714-2c51f648b61e",
   "metadata": {},
   "outputs": [
    {
     "data": {
      "text/plain": [
       "'=MODE.MULT(A2:A12):a function that finds the most frequently occurring value(s) in a range. '"
      ]
     },
     "execution_count": 38,
     "metadata": {},
     "output_type": "execute_result"
    }
   ],
   "source": [
    "\"=MODE.MULT(A2:A12):a function that finds the most frequently occurring value(s) in a range. \""
   ]
  },
  {
   "cell_type": "code",
   "execution_count": 39,
   "id": "306d2377-e5ab-4d74-9898-97b064c1e91f",
   "metadata": {},
   "outputs": [
    {
     "data": {
      "text/plain": [
       "'Enter Array Formula>>ctrl + shift + enter'"
      ]
     },
     "execution_count": 39,
     "metadata": {},
     "output_type": "execute_result"
    }
   ],
   "source": [
    "\"Enter Array Formula>>ctrl + shift + enter\""
   ]
  },
  {
   "cell_type": "code",
   "execution_count": 41,
   "id": "1e54417c-a85b-48dd-8e63-b0395930847f",
   "metadata": {},
   "outputs": [
    {
     "data": {
      "text/plain": [
       "'\\n=AVERAGE(A2:A12)\\n=MEDIAN(A2:A12)\\n=MODE(A2:A12)\\n=MODE.MULT(A2:A12)\\n'"
      ]
     },
     "execution_count": 41,
     "metadata": {},
     "output_type": "execute_result"
    }
   ],
   "source": [
    "\"\"\"\n",
    "=AVERAGE(A2:A12)\n",
    "=MEDIAN(A2:A12)\n",
    "=MODE(A2:A12)\n",
    "=MODE.MULT(A2:A12)\n",
    "\"\"\""
   ]
  },
  {
   "cell_type": "code",
   "execution_count": 42,
   "id": "f18cb285-7847-4500-8a03-a6f71d85d5e7",
   "metadata": {},
   "outputs": [
    {
     "data": {
      "text/plain": [
       "'005 Measuring Maximums, Minimums, and other Data Characteristics'"
      ]
     },
     "execution_count": 42,
     "metadata": {},
     "output_type": "execute_result"
    }
   ],
   "source": [
    "\"005 Measuring Maximums, Minimums, and other Data Characteristics\""
   ]
  },
  {
   "cell_type": "code",
   "execution_count": 43,
   "id": "2a148028-af29-4607-9fcd-5ddd30a894bc",
   "metadata": {},
   "outputs": [
    {
     "data": {
      "text/plain": [
       "'\\nMinimum.\\nMaximum.\\nQuartile1.\\nQuartile2.\\nQuartile3.\\n'"
      ]
     },
     "execution_count": 43,
     "metadata": {},
     "output_type": "execute_result"
    }
   ],
   "source": [
    "\"\"\"\n",
    "Minimum.\n",
    "Maximum.\n",
    "Quartile1.\n",
    "Quartile2.\n",
    "Quartile3.\n",
    "\"\"\""
   ]
  },
  {
   "cell_type": "code",
   "execution_count": 44,
   "id": "aac4f6c6-7cde-4ddc-8387-afc7dad78551",
   "metadata": {},
   "outputs": [
    {
     "data": {
      "text/plain": [
       "'Exercise Files > Chapter01 > MinMax.xlsx'"
      ]
     },
     "execution_count": 44,
     "metadata": {},
     "output_type": "execute_result"
    }
   ],
   "source": [
    "\"Exercise Files > Chapter01 > MinMax.xlsx\""
   ]
  },
  {
   "cell_type": "code",
   "execution_count": 48,
   "id": "b6f6895e-44e3-48a6-a49a-587bea1ff6fa",
   "metadata": {},
   "outputs": [
    {
     "data": {
      "text/plain": [
       "'\\nMinimum>>[=min(a2:a40)]\\nMaximum>>[=max(a2:a40)]\\nQuartile1>>[=quartile(a2:a40,1)]\\nQuartile2>>[=quartile(a2:a40,2)]\\nQuartile3>>[=quartile(a2:a40,3)]\\n'"
      ]
     },
     "execution_count": 48,
     "metadata": {},
     "output_type": "execute_result"
    }
   ],
   "source": [
    "\"\"\"\n",
    "Minimum>>[=min(a2:a40)]\n",
    "Maximum>>[=max(a2:a40)]\n",
    "Quartile1>>[=quartile(a2:a40,1)]\n",
    "Quartile2>>[=quartile(a2:a40,2)]\n",
    "Quartile3>>[=quartile(a2:a40,3)]\n",
    "\"\"\""
   ]
  },
  {
   "cell_type": "code",
   "execution_count": 49,
   "id": "330bd906-262d-4bd8-90a9-50f7c5d8dec0",
   "metadata": {},
   "outputs": [
    {
     "data": {
      "text/plain": [
       "'This Function returns The quartile of a Data set based on Percentile Values.'"
      ]
     },
     "execution_count": 49,
     "metadata": {},
     "output_type": "execute_result"
    }
   ],
   "source": [
    "\"This Function returns The quartile of a Data set based on Percentile Values.\""
   ]
  },
  {
   "cell_type": "code",
   "execution_count": 50,
   "id": "5fc62d13-656e-45e7-b974-18ca0763f72b",
   "metadata": {},
   "outputs": [
    {
     "data": {
      "text/plain": [
       "'تقوم هذه الوظيفة بإرجاع الربع الخاص بمجموعة البيانات استنادًا إلى قيم النسبة المئوية.'"
      ]
     },
     "execution_count": 50,
     "metadata": {},
     "output_type": "execute_result"
    }
   ],
   "source": [
    "\"تقوم هذه الوظيفة بإرجاع الربع الخاص بمجموعة البيانات استنادًا إلى قيم النسبة المئوية.\""
   ]
  },
  {
   "cell_type": "code",
   "execution_count": 53,
   "id": "8c6fb08c-6d57-4d94-97de-e258a2d983f9",
   "metadata": {},
   "outputs": [
    {
     "data": {
      "text/plain": [
       "'\\nOrder Value[A2:A40]\\n=MIN(A2:A40) = 18\\n=MAX(A2:A40) = 975\\n=QUARTILE(A2:A40,1) = 291\\n=QUARTILE(A2:A40,2) = 467\\n=QUARTILE(A2:A40,3) = 716\\n'"
      ]
     },
     "execution_count": 53,
     "metadata": {},
     "output_type": "execute_result"
    }
   ],
   "source": [
    "\"\"\"\n",
    "Order Value[A2:A40]\n",
    "=MIN(A2:A40) = 18\n",
    "=MAX(A2:A40) = 975\n",
    "=QUARTILE(A2:A40,1) = 291\n",
    "=QUARTILE(A2:A40,2) = 467\n",
    "=QUARTILE(A2:A40,3) = 716\n",
    "\"\"\""
   ]
  },
  {
   "cell_type": "code",
   "execution_count": 54,
   "id": "2136375d-2326-4ce8-8896-c29195671ac1",
   "metadata": {},
   "outputs": [
    {
     "data": {
      "text/plain": [
       "'006 Analyzing data using Variance and Standard Deviation'"
      ]
     },
     "execution_count": 54,
     "metadata": {},
     "output_type": "execute_result"
    }
   ],
   "source": [
    "\"006 Analyzing data using Variance and Standard Deviation\""
   ]
  },
  {
   "cell_type": "code",
   "execution_count": 55,
   "id": "4ab2af1a-f40a-4710-afc5-cc72a69113e0",
   "metadata": {},
   "outputs": [
    {
     "data": {
      "text/plain": [
       "'Mean,Error,Squared-Error,Variance,Standard Deviation,VARP&STDEVP'"
      ]
     },
     "execution_count": 55,
     "metadata": {},
     "output_type": "execute_result"
    }
   ],
   "source": [
    "\"Mean,Error,Squared-Error,Variance,Standard Deviation,VARP&STDEVP\""
   ]
  },
  {
   "cell_type": "code",
   "execution_count": 56,
   "id": "64a305c4-24d8-4278-94d6-428db3453f67",
   "metadata": {},
   "outputs": [
    {
     "data": {
      "text/plain": [
       "'Exercise Files > Chapter01 > Variance.xlsx'"
      ]
     },
     "execution_count": 56,
     "metadata": {},
     "output_type": "execute_result"
    }
   ],
   "source": [
    "\"Exercise Files > Chapter01 > Variance.xlsx\""
   ]
  },
  {
   "cell_type": "code",
   "execution_count": 60,
   "id": "ef3a91b3-351a-46e4-8a9c-7ec8beafddf6",
   "metadata": {},
   "outputs": [
    {
     "data": {
      "text/plain": [
       "'\\nMean>>[=AVERAGE(A4:A13)]\\nc1 = 574.2 = Mean\\nError>>[=a4-$c$1]>>[=A4-$C$1]\\n>>Cycle cell $reference>>press\"F4\"key.\\n--------------------------------------\\nSquared Error>>[=b4^2]>>Error-power2.\\n--------------------------------------\\nVariance>>[=AVERAGE(C4:C13)]>>AVERAGE(Squared Error).\\n-------------------------------------\\nVARP>>[=varp(A4:A13)]>>VARP(Order Values).\\n>>Calculates variance based on the entire population.\\n>>[=VARP(A4:A13)]\\n-------------------------------------\\nStandard Deviation>>[=SQRT(c15)]\\nc15 = Variance.\\n-------------------------------------\\nSTDEVP>>[=stdevp(A4:A13)]\\n-------------------------------------\\n>>The STDEVP() Function Calculates Standard Deviation based \\non the entire Population.\\n'"
      ]
     },
     "execution_count": 60,
     "metadata": {},
     "output_type": "execute_result"
    }
   ],
   "source": [
    "\"\"\"\n",
    "Mean>>[=AVERAGE(A4:A13)]\n",
    "c1 = 574.2 = Mean\n",
    "Error>>[=a4-$c$1]>>[=A4-$C$1]\n",
    ">>Cycle cell $reference>>press\"F4\"key.\n",
    "--------------------------------------\n",
    "Squared Error>>[=b4^2]>>Error-power2.\n",
    "--------------------------------------\n",
    "Variance>>[=AVERAGE(C4:C13)]>>AVERAGE(Squared Error).\n",
    "-------------------------------------\n",
    "VARP>>[=varp(A4:A13)]>>VARP(Order Values).\n",
    ">>Calculates variance based on the entire population.\n",
    ">>[=VARP(A4:A13)]\n",
    "-------------------------------------\n",
    "Standard Deviation>>[=SQRT(c15)]\n",
    "c15 = Variance.\n",
    "-------------------------------------\n",
    "STDEVP>>[=stdevp(A4:A13)]\n",
    "-------------------------------------\n",
    ">>The STDEVP() Function Calculates Standard Deviation based \n",
    "on the entire Population.\n",
    "\"\"\""
   ]
  },
  {
   "cell_type": "code",
   "execution_count": 61,
   "id": "ec71609f-8aa9-4afa-8346-816200626489",
   "metadata": {},
   "outputs": [
    {
     "data": {
      "text/plain": [
       "'\\n#Variance.xlsx\\n#Mean>>(c1)=AVERAGE(A4:A13).\\n#Error>>[=A4-$C$1]>>Double-Click.\\n#Squared Error>>[=B4^2]>>Double-Click.\\n#Variance>>[=AVERAGE(C4:C13)]>>[=AVERAGE(Squared Error)].\\n#VARP>>[=VARP(A4:A13)]>>Calculates Variance for Entire Population.\\n#Standard Deviation>>[=SQRT(c15)]>>Square root of Variance.\\n#STDEVP>>[=STDEVP(A4:A13)]>>Standard Deviation Based on a Population.\\n'"
      ]
     },
     "execution_count": 61,
     "metadata": {},
     "output_type": "execute_result"
    }
   ],
   "source": [
    "\"\"\"\n",
    "#Variance.xlsx\n",
    "#Mean>>(c1)=AVERAGE(A4:A13).\n",
    "#Error>>[=A4-$C$1]>>Double-Click.\n",
    "#Squared Error>>[=B4^2]>>Double-Click.\n",
    "#Variance>>[=AVERAGE(C4:C13)]>>[=AVERAGE(Squared Error)].\n",
    "#VARP>>[=VARP(A4:A13)]>>Calculates Variance for Entire Population.\n",
    "#Standard Deviation>>[=SQRT(c15)]>>Square root of Variance.\n",
    "#STDEVP>>[=STDEVP(A4:A13)]>>Standard Deviation Based on a Population.\n",
    "\"\"\""
   ]
  },
  {
   "cell_type": "code",
   "execution_count": 62,
   "id": "e18782ce-d288-49e4-9904-c99114661a9b",
   "metadata": {},
   "outputs": [
    {
     "data": {
      "text/plain": [
       "'\\n-----------------\\n=AVERAGE(A4:A13)\\n=A4-$C$1\\n=B4^2\\n=AVERAGE(C4:C13)\\n=VARP(A4:A13)\\n=SQRT(C15)\\n=STDEVP(A4:A13)\\n------------------\\n'"
      ]
     },
     "execution_count": 62,
     "metadata": {},
     "output_type": "execute_result"
    }
   ],
   "source": [
    "\"\"\"\n",
    "-----------------\n",
    "=AVERAGE(A4:A13)\n",
    "=A4-$C$1\n",
    "=B4^2\n",
    "=AVERAGE(C4:C13)\n",
    "=VARP(A4:A13)\n",
    "=SQRT(C15)\n",
    "=STDEVP(A4:A13)\n",
    "------------------\n",
    "\"\"\""
   ]
  },
  {
   "cell_type": "code",
   "execution_count": 63,
   "id": "db6be17e-616d-4b8f-b61c-2713c5ed1455",
   "metadata": {},
   "outputs": [
    {
     "data": {
      "text/plain": [
       "'007 Introducing The Central Limit Theorem'"
      ]
     },
     "execution_count": 63,
     "metadata": {},
     "output_type": "execute_result"
    }
   ],
   "source": [
    "\"007 Introducing The Central Limit Theorem\""
   ]
  },
  {
   "cell_type": "code",
   "execution_count": 64,
   "id": "f6ede882-fe8e-44eb-b311-8ad30df42754",
   "metadata": {},
   "outputs": [
    {
     "data": {
      "text/plain": [
       "'Central Limit Theorem'"
      ]
     },
     "execution_count": 64,
     "metadata": {},
     "output_type": "execute_result"
    }
   ],
   "source": [
    "\"Central Limit Theorem\""
   ]
  },
  {
   "cell_type": "code",
   "execution_count": 65,
   "id": "33e257c8-07f3-4712-9cc8-4329454e134f",
   "metadata": {},
   "outputs": [
    {
     "data": {
      "text/plain": [
       "'Prob and Mean'"
      ]
     },
     "execution_count": 65,
     "metadata": {},
     "output_type": "execute_result"
    }
   ],
   "source": [
    "\"Prob and Mean\""
   ]
  },
  {
   "cell_type": "code",
   "execution_count": 66,
   "id": "247b5e7f-841c-41aa-a39c-2c175a1cd3d4",
   "metadata": {},
   "outputs": [
    {
     "data": {
      "text/plain": [
       "'Frequency for n = 36'"
      ]
     },
     "execution_count": 66,
     "metadata": {},
     "output_type": "execute_result"
    }
   ],
   "source": [
    "\"Frequency for n = 36\""
   ]
  },
  {
   "cell_type": "code",
   "execution_count": 67,
   "id": "0e54140e-f542-4b64-ba5e-3317b35202d7",
   "metadata": {},
   "outputs": [
    {
     "data": {
      "text/plain": [
       "'Frequency for n = 100'"
      ]
     },
     "execution_count": 67,
     "metadata": {},
     "output_type": "execute_result"
    }
   ],
   "source": [
    "\"Frequency for n = 100\""
   ]
  },
  {
   "cell_type": "code",
   "execution_count": 68,
   "id": "ecc2b88d-c199-4cee-88e4-9242be7bb2b4",
   "metadata": {},
   "outputs": [
    {
     "data": {
      "text/plain": [
       "'Analyzing Data Using Samples'"
      ]
     },
     "execution_count": 68,
     "metadata": {},
     "output_type": "execute_result"
    }
   ],
   "source": [
    "\"Analyzing Data Using Samples\""
   ]
  },
  {
   "cell_type": "code",
   "execution_count": 69,
   "id": "0fa3df08-5376-4867-a97b-2fffc7e7454a",
   "metadata": {},
   "outputs": [
    {
     "data": {
      "text/plain": [
       "'008 Analyzing a population using Data Samples'"
      ]
     },
     "execution_count": 69,
     "metadata": {},
     "output_type": "execute_result"
    }
   ],
   "source": [
    "\"008 Analyzing a population using Data Samples\""
   ]
  },
  {
   "cell_type": "code",
   "execution_count": 71,
   "id": "6989be68-a7ea-4b3a-98cc-7e2928d9f12e",
   "metadata": {},
   "outputs": [
    {
     "data": {
      "text/plain": [
       "\"\\n1>>Gather as large a sample as you can!\\n2>>The population's Standard Deviation.\\n3>>confidence level.\\n\""
      ]
     },
     "execution_count": 71,
     "metadata": {},
     "output_type": "execute_result"
    }
   ],
   "source": [
    "\"\"\"\n",
    "1>>Gather as large a sample as you can!\n",
    "2>>The population's Standard Deviation.\n",
    "3>>confidence level.\n",
    "\"\"\""
   ]
  },
  {
   "cell_type": "code",
   "execution_count": 72,
   "id": "a5ccf6d3-6c12-4646-a4c8-54c98b9c30c9",
   "metadata": {},
   "outputs": [
    {
     "data": {
      "text/plain": [
       "'Calculating Margin of Error:Standard error:σ/root(N)'"
      ]
     },
     "execution_count": 72,
     "metadata": {},
     "output_type": "execute_result"
    }
   ],
   "source": [
    "\"Calculating Margin of Error:Standard error:σ/root(N)\""
   ]
  },
  {
   "cell_type": "code",
   "execution_count": 73,
   "id": "3cd4f99d-1485-4b15-83dd-33ff34a6a12f",
   "metadata": {},
   "outputs": [
    {
     "data": {
      "text/plain": [
       "'Margin of Error is Standard error times z-score'"
      ]
     },
     "execution_count": 73,
     "metadata": {},
     "output_type": "execute_result"
    }
   ],
   "source": [
    "\"Margin of Error is Standard error times z-score\""
   ]
  },
  {
   "cell_type": "code",
   "execution_count": 74,
   "id": "12e7f264-ccde-4395-a75f-c8343c56be95",
   "metadata": {},
   "outputs": [
    {
     "data": {
      "text/plain": [
       "'z-score standard deviations from the mean'"
      ]
     },
     "execution_count": 74,
     "metadata": {},
     "output_type": "execute_result"
    }
   ],
   "source": [
    "\"z-score standard deviations from the mean\""
   ]
  },
  {
   "cell_type": "code",
   "execution_count": 75,
   "id": "ce393ae8-6310-48fc-9d12-fc8c3363cadc",
   "metadata": {},
   "outputs": [
    {
     "data": {
      "text/plain": [
       "'009 Identifying and Minimizing sources of Error'"
      ]
     },
     "execution_count": 75,
     "metadata": {},
     "output_type": "execute_result"
    }
   ],
   "source": [
    "\"009 Identifying and Minimizing sources of Error\""
   ]
  },
  {
   "cell_type": "code",
   "execution_count": 76,
   "id": "94fee158-2b93-48bf-aceb-5adb88a89067",
   "metadata": {},
   "outputs": [
    {
     "data": {
      "text/plain": [
       "'010 Grouping Data using Histograms'"
      ]
     },
     "execution_count": 76,
     "metadata": {},
     "output_type": "execute_result"
    }
   ],
   "source": [
    "\"010 Grouping Data using Histograms\""
   ]
  },
  {
   "cell_type": "code",
   "execution_count": 77,
   "id": "91b2a2f0-3cf6-4b15-a024-501c0d737f5c",
   "metadata": {},
   "outputs": [
    {
     "data": {
      "text/plain": [
       "'Exercise Files > Chapter02 > Histogram.xlsx'"
      ]
     },
     "execution_count": 77,
     "metadata": {},
     "output_type": "execute_result"
    }
   ],
   "source": [
    "\"Exercise Files > Chapter02 > Histogram.xlsx\""
   ]
  },
  {
   "cell_type": "code",
   "execution_count": 78,
   "id": "507f30a1-0edd-474d-81fa-b4d50d4c9970",
   "metadata": {},
   "outputs": [
    {
     "data": {
      "text/plain": [
       "'Quantity Short<<>>Bins'"
      ]
     },
     "execution_count": 78,
     "metadata": {},
     "output_type": "execute_result"
    }
   ],
   "source": [
    "\"Quantity Short<<>>Bins\""
   ]
  },
  {
   "cell_type": "code",
   "execution_count": 79,
   "id": "4af57ede-71e4-468d-a74e-86463a21c8f1",
   "metadata": {},
   "outputs": [
    {
     "data": {
      "text/plain": [
       "'10>>20>>Double-Click'"
      ]
     },
     "execution_count": 79,
     "metadata": {},
     "output_type": "execute_result"
    }
   ],
   "source": [
    "\"10>>20>>Double-Click\""
   ]
  },
  {
   "cell_type": "code",
   "execution_count": 81,
   "id": "9f6cdd85-f549-4af2-a360-e34bed20f63b",
   "metadata": {},
   "outputs": [
    {
     "data": {
      "text/plain": [
       "'Manage>>Excel Add-ins>>Analysis toolpak'"
      ]
     },
     "execution_count": 81,
     "metadata": {},
     "output_type": "execute_result"
    }
   ],
   "source": [
    "\"Manage>>Excel Add-ins>>Analysis toolpak\""
   ]
  },
  {
   "cell_type": "code",
   "execution_count": 83,
   "id": "261b573c-43d8-4b2f-b27d-66431e1c2410",
   "metadata": {},
   "outputs": [
    {
     "data": {
      "text/plain": [
       "'Analysis>>Data Analysis>>Histogram'"
      ]
     },
     "execution_count": 83,
     "metadata": {},
     "output_type": "execute_result"
    }
   ],
   "source": [
    "\"Analysis>>Data Analysis>>Histogram\""
   ]
  },
  {
   "cell_type": "code",
   "execution_count": 85,
   "id": "1e6a3f0a-4194-4456-aab0-db9d3df2daa2",
   "metadata": {},
   "outputs": [
    {
     "data": {
      "text/plain": [
       "'\\nHistogram\\nINPUT RANGE:$A$2:$A$51;\\nBin RANGE:$C$2:$C$11;\\n>>Chart Output;\\n'"
      ]
     },
     "execution_count": 85,
     "metadata": {},
     "output_type": "execute_result"
    }
   ],
   "source": [
    "\"\"\"\n",
    "Histogram\n",
    "INPUT RANGE:$A$2:$A$51;\n",
    "Bin RANGE:$C$2:$C$11;\n",
    ">>Chart Output;\n",
    "\"\"\""
   ]
  },
  {
   "cell_type": "code",
   "execution_count": 86,
   "id": "66618b2c-e8cc-49f5-be30-f0998ff86352",
   "metadata": {},
   "outputs": [
    {
     "data": {
      "text/plain": [
       "'\\nBins\\n10\\n20\\nSelect>>10|20>>Shift>>to End;\\n'"
      ]
     },
     "execution_count": 86,
     "metadata": {},
     "output_type": "execute_result"
    }
   ],
   "source": [
    "\"\"\"\n",
    "Bins\n",
    "10\n",
    "20\n",
    "Select>>10|20>>Shift>>to End;\n",
    "\"\"\""
   ]
  },
  {
   "cell_type": "code",
   "execution_count": 87,
   "id": "57ecfc17-d2f6-4d10-bce4-d9d0b151786c",
   "metadata": {},
   "outputs": [
    {
     "data": {
      "text/plain": [
       "'\\nClick-on>>Quantity Short>>Insert>>Insert Chart>>Histogram.\\n>>Right-Click>>Format>>Gap Width:0.70>>Series \"Quantity Short\"\\n>>Bins:Bin width>>Bin Width:10>>Number of bins:10;\\n>>Bins:Bin width>>Bin width:10;\\n'"
      ]
     },
     "execution_count": 87,
     "metadata": {},
     "output_type": "execute_result"
    }
   ],
   "source": [
    "\"\"\"\n",
    "Click-on>>Quantity Short>>Insert>>Insert Chart>>Histogram.\n",
    ">>Right-Click>>Format>>Gap Width:0.70>>Series \"Quantity Short\"\n",
    ">>Bins:Bin width>>Bin Width:10>>Number of bins:10;\n",
    ">>Bins:Bin width>>Bin width:10;\n",
    "\"\"\""
   ]
  },
  {
   "cell_type": "code",
   "execution_count": 90,
   "id": "d6b0fb5e-2282-4ec5-8e39-f8fca5ec67a0",
   "metadata": {},
   "outputs": [
    {
     "data": {
      "text/plain": [
       "'Histogram Finished'"
      ]
     },
     "execution_count": 90,
     "metadata": {},
     "output_type": "execute_result"
    }
   ],
   "source": [
    "\"A histogram is a graph that shows the frequency of numerical data using rectangles.\"\n",
    "\"Histogram Finished\""
   ]
  },
  {
   "cell_type": "code",
   "execution_count": 91,
   "id": "f9f123ad-1f3f-49b7-8a99-2114e1a2d344",
   "metadata": {},
   "outputs": [
    {
     "data": {
      "text/plain": [
       "'011 Identifying relationships using XY Scatter Charts'"
      ]
     },
     "execution_count": 91,
     "metadata": {},
     "output_type": "execute_result"
    }
   ],
   "source": [
    "\"011 Identifying relationships using XY Scatter Charts\""
   ]
  },
  {
   "cell_type": "code",
   "execution_count": 92,
   "id": "1ec3894a-13ca-454d-b403-c17651382f34",
   "metadata": {},
   "outputs": [
    {
     "data": {
      "text/plain": [
       "'Distance<<>>Amount Spend'"
      ]
     },
     "execution_count": 92,
     "metadata": {},
     "output_type": "execute_result"
    }
   ],
   "source": [
    "\"Distance<<>>Amount Spend\""
   ]
  },
  {
   "cell_type": "code",
   "execution_count": 93,
   "id": "0bcbcf9f-13f1-4d55-860a-21c270575574",
   "metadata": {},
   "outputs": [
    {
     "data": {
      "text/plain": [
       "'Excercise Files>Chapter02>XYScatter.xlsx'"
      ]
     },
     "execution_count": 93,
     "metadata": {},
     "output_type": "execute_result"
    }
   ],
   "source": [
    "\"Excercise Files>Chapter02>XYScatter.xlsx\""
   ]
  },
  {
   "cell_type": "code",
   "execution_count": 94,
   "id": "5ccaf102-c80e-4eff-875e-a06cc00658fd",
   "metadata": {},
   "outputs": [
    {
     "data": {
      "text/plain": [
       "'Distance<<>>Amount Spend'"
      ]
     },
     "execution_count": 94,
     "metadata": {},
     "output_type": "execute_result"
    }
   ],
   "source": [
    "\"Distance<<>>Amount Spend\""
   ]
  },
  {
   "cell_type": "code",
   "execution_count": 95,
   "id": "ce48b1d5-b743-4a89-bd7b-32ee5dd91b6f",
   "metadata": {},
   "outputs": [
    {
     "data": {
      "text/plain": [
       "'\\nShift>>Select>>Distance&Amount Spend;\\nINSERT>>Scatter;\\nAmount Spend\\n'"
      ]
     },
     "execution_count": 95,
     "metadata": {},
     "output_type": "execute_result"
    }
   ],
   "source": [
    "\"\"\"\n",
    "Shift>>Select>>Distance&Amount Spend;\n",
    "INSERT>>Scatter;\n",
    "Amount Spend\n",
    "\"\"\""
   ]
  },
  {
   "cell_type": "code",
   "execution_count": 2,
   "id": "8b29d8c4-ccd0-4924-95bd-b3cedffb1941",
   "metadata": {},
   "outputs": [
    {
     "data": {
      "text/plain": [
       "'INSERT<<>>Scatter'"
      ]
     },
     "execution_count": 2,
     "metadata": {},
     "output_type": "execute_result"
    }
   ],
   "source": [
    "\"INSERT<<>>Scatter\""
   ]
  },
  {
   "cell_type": "code",
   "execution_count": 4,
   "id": "47c21d02-6fba-4c49-abb1-b78839f28c36",
   "metadata": {},
   "outputs": [
    {
     "data": {
      "text/plain": [
       "'\\n>>Identifying relationships using XY scatter<<\\n>>Exercise Files > Chapter02 > XYScatter.xlsx<<\\n'"
      ]
     },
     "execution_count": 4,
     "metadata": {},
     "output_type": "execute_result"
    }
   ],
   "source": [
    "\"\"\"\n",
    ">>Identifying relationships using XY scatter<<\n",
    ">>Exercise Files > Chapter02 > XYScatter.xlsx<<\n",
    "\"\"\""
   ]
  },
  {
   "cell_type": "code",
   "execution_count": 6,
   "id": "27e79858-0312-4d19-bfcf-95a31aeec325",
   "metadata": {},
   "outputs": [
    {
     "data": {
      "text/plain": [
       "'\\n1.Shift>>Select>>[Distance | Amount Spent]\\n2.Insert>>Scatter>>Amount Spent\\n'"
      ]
     },
     "execution_count": 6,
     "metadata": {},
     "output_type": "execute_result"
    }
   ],
   "source": [
    "\"\"\"\n",
    "1.Shift>>Select>>[Distance | Amount Spent]\n",
    "2.Insert>>Scatter>>Amount Spent\n",
    "\"\"\""
   ]
  },
  {
   "cell_type": "code",
   "execution_count": 7,
   "id": "0a3fb0a2-529d-411a-8799-cd72d6272664",
   "metadata": {},
   "outputs": [
    {
     "data": {
      "text/plain": [
       "'012 Visualizing data using Logarithmic Scales'"
      ]
     },
     "execution_count": 7,
     "metadata": {},
     "output_type": "execute_result"
    }
   ],
   "source": [
    "\"012 Visualizing data using Logarithmic Scales\""
   ]
  },
  {
   "cell_type": "code",
   "execution_count": 8,
   "id": "e8f6a796-c77c-42e4-8853-3dc94a7cc017",
   "metadata": {},
   "outputs": [
    {
     "data": {
      "text/plain": [
       "'Exercise Files > Chapter02 > LogarithmicScale.xlsx'"
      ]
     },
     "execution_count": 8,
     "metadata": {},
     "output_type": "execute_result"
    }
   ],
   "source": [
    "\"Exercise Files > Chapter02 > LogarithmicScale.xlsx\""
   ]
  },
  {
   "cell_type": "code",
   "execution_count": 11,
   "id": "aae9e266-942f-4eb1-865f-e3ccb1d6aaf0",
   "metadata": {},
   "outputs": [
    {
     "data": {
      "text/plain": [
       "'\\n>>Examples<<\\n=2^3>>8\\n=log(8,2)>>3\\n------------------\\n>>Logarthmic scale;\\n------------------\\nExamples\\n8\\n3\\nSample|Atoms\\n'"
      ]
     },
     "execution_count": 11,
     "metadata": {},
     "output_type": "execute_result"
    }
   ],
   "source": [
    "\"\"\"\n",
    ">>Examples<<\n",
    "=2^3>>8\n",
    "=log(8,2)>>3\n",
    "------------------\n",
    ">>Logarthmic scale;\n",
    "------------------\n",
    "Examples\n",
    "8\n",
    "3\n",
    "Sample|Atoms\n",
    "\"\"\""
   ]
  },
  {
   "cell_type": "code",
   "execution_count": 13,
   "id": "ef27c33d-8806-4a86-9f59-7771ae1c7c3a",
   "metadata": {},
   "outputs": [
    {
     "data": {
      "text/plain": [
       "'\\n1>>LogarithmicScale.xlsx\\n>>Logarithmic scale Base<<\\n'"
      ]
     },
     "execution_count": 13,
     "metadata": {},
     "output_type": "execute_result"
    }
   ],
   "source": [
    "\"\"\"\n",
    "1>>LogarithmicScale.xlsx\n",
    ">>Logarithmic scale Base<<\n",
    "\"\"\""
   ]
  },
  {
   "cell_type": "code",
   "execution_count": 14,
   "id": "1d162488-a4aa-4d5d-b184-b9befe1346f9",
   "metadata": {},
   "outputs": [
    {
     "data": {
      "text/plain": [
       "'\\n1>>Format:>>Logarithmic-scale-Base;\\n2>>X&Y-Axis>>Logarithmic-Scale-Base;\\n'"
      ]
     },
     "execution_count": 14,
     "metadata": {},
     "output_type": "execute_result"
    }
   ],
   "source": [
    "\"\"\"\n",
    "1>>Format:>>Logarithmic-scale-Base;\n",
    "2>>X&Y-Axis>>Logarithmic-Scale-Base;\n",
    "\"\"\""
   ]
  },
  {
   "cell_type": "code",
   "execution_count": 15,
   "id": "17540d8b-51f3-4873-8452-d37b4483013b",
   "metadata": {},
   "outputs": [
    {
     "data": {
      "text/plain": [
       "'013>>Adding Trendlines To Charts'"
      ]
     },
     "execution_count": 15,
     "metadata": {},
     "output_type": "execute_result"
    }
   ],
   "source": [
    "\"013>>Adding Trendlines To Charts\""
   ]
  },
  {
   "cell_type": "code",
   "execution_count": 16,
   "id": "ed015b10-170b-4670-a632-192cf94e41ea",
   "metadata": {},
   "outputs": [
    {
     "data": {
      "text/plain": [
       "'Adding-TrendLines-To-Charts'"
      ]
     },
     "execution_count": 16,
     "metadata": {},
     "output_type": "execute_result"
    }
   ],
   "source": [
    "\"Adding-TrendLines-To-Charts\""
   ]
  },
  {
   "cell_type": "code",
   "execution_count": 17,
   "id": "5a02d7a3-ee26-4732-b661-da88c66bca85",
   "metadata": {},
   "outputs": [
    {
     "data": {
      "text/plain": [
       "'Exercise Files > Chapter02 > TrendLines.xlsx'"
      ]
     },
     "execution_count": 17,
     "metadata": {},
     "output_type": "execute_result"
    }
   ],
   "source": [
    "\"Exercise Files > Chapter02 > TrendLines.xlsx\""
   ]
  },
  {
   "cell_type": "code",
   "execution_count": 1,
   "id": "3570c423-5280-43fd-a15e-5b449c456853",
   "metadata": {},
   "outputs": [
    {
     "data": {
      "text/plain": [
       "\"Trendlines haven't been added to Online Office 365\""
      ]
     },
     "execution_count": 1,
     "metadata": {},
     "output_type": "execute_result"
    }
   ],
   "source": [
    "\"Trendlines haven't been added to Online Office 365\""
   ]
  },
  {
   "cell_type": "code",
   "execution_count": 18,
   "id": "0c3ba36e-d3a3-427c-accd-c8a736828dc1",
   "metadata": {},
   "outputs": [
    {
     "data": {
      "text/plain": [
       "'014 Forecasting-Future-results'"
      ]
     },
     "execution_count": 18,
     "metadata": {},
     "output_type": "execute_result"
    }
   ],
   "source": [
    "\"014 Forecasting-Future-results\""
   ]
  },
  {
   "cell_type": "code",
   "execution_count": 19,
   "id": "c949c45a-7368-4def-b7ac-9a142e43cfbc",
   "metadata": {},
   "outputs": [
    {
     "data": {
      "text/plain": [
       "'Exercise Files > Chapter02 > Forecast.xlsx'"
      ]
     },
     "execution_count": 19,
     "metadata": {},
     "output_type": "execute_result"
    }
   ],
   "source": [
    "\"Exercise Files > Chapter02 > Forecast.xlsx\""
   ]
  },
  {
   "cell_type": "code",
   "execution_count": 20,
   "id": "61d5c9f7-244c-4765-8894-fd0fe7704d1d",
   "metadata": {},
   "outputs": [
    {
     "data": {
      "text/plain": [
       "'Quarter|Sales'"
      ]
     },
     "execution_count": 20,
     "metadata": {},
     "output_type": "execute_result"
    }
   ],
   "source": [
    "\"Quarter|Sales\""
   ]
  },
  {
   "cell_type": "code",
   "execution_count": 21,
   "id": "05bc4f50-d674-4f9d-b812-e74f81ba0254",
   "metadata": {},
   "outputs": [
    {
     "data": {
      "text/plain": [
       "'\\n1.Quarter&Sales>>Shift>>Drop-Down;\\n2.Trend>>Forecast;\\n3.Distance&Amount Spent>>Miles Driven>>Predicted Amount Spend.\\n4.Predicted-Amount-Spend:[=FORECAST(d2,B2:B27,a2:a27)]\\n5.Miles Driven:25 or 50.\\n'"
      ]
     },
     "execution_count": 21,
     "metadata": {},
     "output_type": "execute_result"
    }
   ],
   "source": [
    "\"\"\"\n",
    "1.Quarter&Sales>>Shift>>Drop-Down;\n",
    "2.Trend>>Forecast;\n",
    "3.Distance&Amount Spent>>Miles Driven>>Predicted Amount Spend.\n",
    "4.Predicted-Amount-Spend:[=FORECAST(d2,B2:B27,a2:a27)]\n",
    "5.Miles Driven:25 or 50.\n",
    "\"\"\""
   ]
  },
  {
   "cell_type": "code",
   "execution_count": 22,
   "id": "0bd3ebb1-e253-4e9b-ac7f-c3d634585dd9",
   "metadata": {},
   "outputs": [
    {
     "data": {
      "text/plain": [
       "'\\n1>>Distanceمسافة;\\n2>>Amount Spentالمقدار المنفق;\\n3>>Miles Drivenأميال القيادة;\\n4>>Predicted Amount Spentالمبلغ المتوقع إنفاقه;\\n'"
      ]
     },
     "execution_count": 22,
     "metadata": {},
     "output_type": "execute_result"
    }
   ],
   "source": [
    "\"\"\"\n",
    "1>>Distanceمسافة;\n",
    "2>>Amount Spentالمقدار المنفق;\n",
    "3>>Miles Drivenأميال القيادة;\n",
    "4>>Predicted Amount Spentالمبلغ المتوقع إنفاقه;\n",
    "\"\"\""
   ]
  },
  {
   "cell_type": "code",
   "execution_count": 25,
   "id": "0c3f9dcc-545e-4008-bdd2-54cc78f4c62c",
   "metadata": {},
   "outputs": [
    {
     "data": {
      "text/plain": [
       "'\\nTrend\\n1>>Shift>>Select All Data Sales>>Drop-Down;\\n-------------------------------------------\\nForecast\\n2>>Set>>Miles Driven:50;\\n-------------------------------------------\\n3>>Predicted Amount Spent>>[=FORECAST(d2,B2:B27,a2:a27)]\\nd2>>Miles Driven;\\nB2:B27>>Amount Spend;\\na2:a27>>Distance;\\n--------------------\\nFORECAST>>Amount-Spent-Predicted;\\n--------------------\\n'"
      ]
     },
     "execution_count": 25,
     "metadata": {},
     "output_type": "execute_result"
    }
   ],
   "source": [
    "\"\"\"\n",
    "Trend\n",
    "1>>Shift>>Select All Data Sales>>Drop-Down;\n",
    "-------------------------------------------\n",
    "Forecast\n",
    "2>>Set>>Miles Driven:50;\n",
    "-------------------------------------------\n",
    "3>>Predicted Amount Spent>>[=FORECAST(d2,B2:B27,a2:a27)]\n",
    "d2>>Miles Driven;\n",
    "B2:B27>>Amount Spend;\n",
    "a2:a27>>Distance;\n",
    "--------------------\n",
    "FORECAST>>Amount-Spent-Predicted;\n",
    "--------------------\n",
    "\"\"\""
   ]
  },
  {
   "cell_type": "code",
   "execution_count": 26,
   "id": "35764c04-d165-42d7-b25b-a8978d23a122",
   "metadata": {},
   "outputs": [
    {
     "data": {
      "text/plain": [
       "'=FORECAST(D2,B2:B27,A2:A27)'"
      ]
     },
     "execution_count": 26,
     "metadata": {},
     "output_type": "execute_result"
    }
   ],
   "source": [
    "\"=FORECAST(D2,B2:B27,A2:A27)\""
   ]
  },
  {
   "cell_type": "code",
   "execution_count": 27,
   "id": "6de150a4-2be5-43a0-8814-25694bce4f8c",
   "metadata": {},
   "outputs": [
    {
     "data": {
      "text/plain": [
       "'Predicted Amount Spent:=FORECAST(D2,B2:B27,A2:A27)'"
      ]
     },
     "execution_count": 27,
     "metadata": {},
     "output_type": "execute_result"
    }
   ],
   "source": [
    "\"Predicted Amount Spent:=FORECAST(D2,B2:B27,A2:A27)\""
   ]
  },
  {
   "cell_type": "code",
   "execution_count": 28,
   "id": "728438b5-e6af-4940-9f53-4347f82091e3",
   "metadata": {},
   "outputs": [
    {
     "data": {
      "text/plain": [
       "'Old Distance Data + Old Amount Spent Data = Future Amount Spent'"
      ]
     },
     "execution_count": 28,
     "metadata": {},
     "output_type": "execute_result"
    }
   ],
   "source": [
    "\"Old Distance Data + Old Amount Spent Data = Future Amount Spent\""
   ]
  },
  {
   "cell_type": "code",
   "execution_count": 30,
   "id": "ab6dc138-594a-48da-b4ea-86fad5114699",
   "metadata": {},
   "outputs": [
    {
     "data": {
      "text/plain": [
       "'Forecastتنبؤ'"
      ]
     },
     "execution_count": 30,
     "metadata": {},
     "output_type": "execute_result"
    }
   ],
   "source": [
    "\"Forecastتنبؤ\""
   ]
  },
  {
   "cell_type": "code",
   "execution_count": 31,
   "id": "8f7834d2-1ee3-42ea-9d27-5beeb9f698e2",
   "metadata": {},
   "outputs": [
    {
     "data": {
      "text/plain": [
       "'015 Calculating running averages'"
      ]
     },
     "execution_count": 31,
     "metadata": {},
     "output_type": "execute_result"
    }
   ],
   "source": [
    "\"015 Calculating running averages\""
   ]
  },
  {
   "cell_type": "code",
   "execution_count": 32,
   "id": "bdfb2dfa-f8dc-4fcf-b720-2ef9b5570d12",
   "metadata": {},
   "outputs": [
    {
     "data": {
      "text/plain": [
       "'015-Calculating-Running-Averages'"
      ]
     },
     "execution_count": 32,
     "metadata": {},
     "output_type": "execute_result"
    }
   ],
   "source": [
    "\"015-Calculating-Running-Averages\""
   ]
  },
  {
   "cell_type": "code",
   "execution_count": 33,
   "id": "6e02c0df-c103-47cd-8b8d-96d56e98dc41",
   "metadata": {},
   "outputs": [
    {
     "data": {
      "text/plain": [
       "'Exercise Files > Chapter02 > RunningAverage.xlsx'"
      ]
     },
     "execution_count": 33,
     "metadata": {},
     "output_type": "execute_result"
    }
   ],
   "source": [
    "\"Exercise Files > Chapter02 > RunningAverage.xlsx\""
   ]
  },
  {
   "cell_type": "code",
   "execution_count": 34,
   "id": "b6897d8c-ec75-48df-ae37-faa559ed68c2",
   "metadata": {},
   "outputs": [
    {
     "data": {
      "text/plain": [
       "'\\nMonth.\\nCustomers.\\nRunning Average.\\n3-month Running Average.\\n'"
      ]
     },
     "execution_count": 34,
     "metadata": {},
     "output_type": "execute_result"
    }
   ],
   "source": [
    "\"\"\"\n",
    "Month.\n",
    "Customers.\n",
    "Running Average.\n",
    "3-month Running Average.\n",
    "\"\"\""
   ]
  },
  {
   "cell_type": "code",
   "execution_count": 3,
   "id": "50deb6fd-8833-4cba-8929-e5f08a4fe436",
   "metadata": {},
   "outputs": [
    {
     "data": {
      "text/plain": [
       "'\\nMonth|Customers|Running Average|3-month Running Average|\\n>>Cycle cell reference>>press F4 key.\\n1>>Running Average:[=average($B$2:B2)]\\n2>>Running Average.\\n4,299/1 = 4,299\\n(4,299 + 2,838)/2 = 3,569\\n(4,299+2,838+2,866)/3 = 3,334\\n------------------------------\\n3>>3-month Running Average.\\n=average(b2:b4)\\n(4,299 + 2,838 + 2,866)/3 = 3,334\\n(2,838 + 2,866 + 3,624)/3 = 3,109\\n------------------------------\\n'"
      ]
     },
     "execution_count": 3,
     "metadata": {},
     "output_type": "execute_result"
    }
   ],
   "source": [
    "\"\"\"\n",
    "Month|Customers|Running Average|3-month Running Average|\n",
    ">>Cycle cell reference>>press F4 key.\n",
    "1>>Running Average:[=average($B$2:B2)]\n",
    "2>>Running Average.\n",
    "4,299/1 = 4,299\n",
    "(4,299 + 2,838)/2 = 3,569\n",
    "(4,299+2,838+2,866)/3 = 3,334\n",
    "------------------------------\n",
    "3>>3-month Running Average.\n",
    "=average(b2:b4)\n",
    "(4,299 + 2,838 + 2,866)/3 = 3,334\n",
    "(2,838 + 2,866 + 3,624)/3 = 3,109\n",
    "------------------------------\n",
    "\"\"\""
   ]
  },
  {
   "cell_type": "code",
   "execution_count": 5,
   "id": "db9013d7-e9a5-4345-a43f-354f13a352be",
   "metadata": {},
   "outputs": [
    {
     "data": {
      "text/plain": [
       "'\\n1>>[=AVERAGE($B$2:B2)]>>=AVERAGE($B$2:B2)\\n2>>[=AVERAGE(B2:B4)]>>=AVERAGE(B2:B4)\\n'"
      ]
     },
     "execution_count": 5,
     "metadata": {},
     "output_type": "execute_result"
    }
   ],
   "source": [
    "\"\"\"\n",
    "1>>[=AVERAGE($B$2:B2)]>>=AVERAGE($B$2:B2)\n",
    "2>>[=AVERAGE(B2:B4)]>>=AVERAGE(B2:B4)\n",
    "\"\"\""
   ]
  },
  {
   "cell_type": "code",
   "execution_count": 6,
   "id": "79297f2e-20af-43d4-b12e-e107ef73ecab",
   "metadata": {},
   "outputs": [
    {
     "data": {
      "text/plain": [
       "'016>>Formulating A Hypothesis'"
      ]
     },
     "execution_count": 6,
     "metadata": {},
     "output_type": "execute_result"
    }
   ],
   "source": [
    "\"016>>Formulating A Hypothesis\""
   ]
  },
  {
   "cell_type": "code",
   "execution_count": 7,
   "id": "fd3259d9-26cd-4f7a-ba1f-c22c81594e1e",
   "metadata": {},
   "outputs": [
    {
     "data": {
      "text/plain": [
       "'Formulating a Hypothesis'"
      ]
     },
     "execution_count": 7,
     "metadata": {},
     "output_type": "execute_result"
    }
   ],
   "source": [
    "\"Formulating a Hypothesis\""
   ]
  },
  {
   "cell_type": "code",
   "execution_count": 9,
   "id": "74659743-417a-4617-a4a7-a61090f62d07",
   "metadata": {},
   "outputs": [
    {
     "data": {
      "text/plain": [
       "'Interpreting the Results of Your Analysisتفسير نتائج تحليلك'"
      ]
     },
     "execution_count": 9,
     "metadata": {},
     "output_type": "execute_result"
    }
   ],
   "source": [
    "\"Interpreting the Results of Your Analysisتفسير نتائج تحليلك\""
   ]
  },
  {
   "cell_type": "code",
   "execution_count": 14,
   "id": "f636ed73-bce2-44f9-b652-70fb214cab89",
   "metadata": {},
   "outputs": [
    {
     "data": {
      "text/plain": [
       "'\\n>>Inter-preting The Results of Your Analysis<<\\n1>>Target-Value:70\\n2>>Sample-Size:100\\n3>>Mean:73\\n4>>Standard-Deviation:15.1\\n5>>Z-Score:1.987\\n6>>Probability: 2.35%\\nMean>>95%>>97.65%\\n'"
      ]
     },
     "execution_count": 14,
     "metadata": {},
     "output_type": "execute_result"
    }
   ],
   "source": [
    "\"\"\"\n",
    ">>Inter-preting The Results of Your Analysis<<\n",
    "1>>Target-Value:70\n",
    "2>>Sample-Size:100\n",
    "3>>Mean:73\n",
    "4>>Standard-Deviation:15.1\n",
    "5>>Z-Score:1.987\n",
    "6>>Probability: 2.35%\n",
    "Mean>>95%>>97.65%\n",
    "\"\"\""
   ]
  },
  {
   "cell_type": "code",
   "execution_count": 16,
   "id": "ca66d4bc-d267-46f6-a63e-8dc0930a6151",
   "metadata": {},
   "outputs": [
    {
     "data": {
      "text/plain": [
       "\"018-Considering-The-Limits-of-Hypothesis-Testingالنظر في حدود اختبار الفرضيات'\""
      ]
     },
     "execution_count": 16,
     "metadata": {},
     "output_type": "execute_result"
    }
   ],
   "source": [
    "\"018-Considering-The-Limits-of-Hypothesis-Testingالنظر في حدود اختبار الفرضيات'\""
   ]
  },
  {
   "cell_type": "code",
   "execution_count": 17,
   "id": "7a9103d0-1735-4ce7-9ff9-6898b71a8c03",
   "metadata": {},
   "outputs": [
    {
     "data": {
      "text/plain": [
       "'>>019 Using The Normal Distribution'"
      ]
     },
     "execution_count": 17,
     "metadata": {},
     "output_type": "execute_result"
    }
   ],
   "source": [
    "\">>019 Using The Normal Distribution\""
   ]
  },
  {
   "cell_type": "code",
   "execution_count": 18,
   "id": "ec5c2910-cb32-407b-9e72-36f7fe4958bc",
   "metadata": {},
   "outputs": [
    {
     "name": "stdout",
     "output_type": "stream",
     "text": [
      "Exercise Files > Chapter04 > Normal.xlsx\n"
     ]
    }
   ],
   "source": [
    "print(\"Exercise Files > Chapter04 > Normal.xlsx\")"
   ]
  },
  {
   "cell_type": "code",
   "execution_count": 19,
   "id": "9122e4d4-f253-4b3d-8ea0-56bc146807fb",
   "metadata": {},
   "outputs": [
    {
     "data": {
      "text/plain": [
       "'Exercise Files > Chapter04 > Normal.xlsx'"
      ]
     },
     "execution_count": 19,
     "metadata": {},
     "output_type": "execute_result"
    }
   ],
   "source": [
    "\"Exercise Files > Chapter04 > Normal.xlsx\""
   ]
  },
  {
   "cell_type": "code",
   "execution_count": 20,
   "id": "135500ef-fb2a-48da-af7b-1ae276446bdc",
   "metadata": {},
   "outputs": [
    {
     "data": {
      "text/plain": [
       "'Calculate-The-Normal-Distribution'"
      ]
     },
     "execution_count": 20,
     "metadata": {},
     "output_type": "execute_result"
    }
   ],
   "source": [
    "\"Calculate-The-Normal-Distribution\""
   ]
  },
  {
   "cell_type": "code",
   "execution_count": 21,
   "id": "849728f4-6849-4703-be75-31e0e8e1e8c6",
   "metadata": {},
   "outputs": [
    {
     "data": {
      "text/plain": [
       "'\\n1>>Mean:>>100\\n2>>Standard Deviation:>>20\\n3>>Calculate Normal Distribution;\\n=NORMDIST(A4,$B$1,$B$2,FALSE)\\n=NORMDIST(Value,Mean,StandardDeviation,FALSE)\\n--------------------------------------------\\nProbability Of Exactly 92:[=NORMDIST(92,$B$1,$B$2,FALSE)]\\nProbability of 92 or less:[=NORMDIST(92,$B$1,$B$2,TRUE)]\\n---------------------------------------------\\n68% of values below:[=NORMINV(0.68,B1,B2)]\\n83% of values below:[=NORMINV(0.83,B1,B2)]\\n'"
      ]
     },
     "execution_count": 21,
     "metadata": {},
     "output_type": "execute_result"
    }
   ],
   "source": [
    "\"\"\"\n",
    "1>>Mean:>>100\n",
    "2>>Standard Deviation:>>20\n",
    "3>>Calculate Normal Distribution;\n",
    "=NORMDIST(A4,$B$1,$B$2,FALSE)\n",
    "=NORMDIST(Value,Mean,StandardDeviation,FALSE)\n",
    "--------------------------------------------\n",
    "Probability Of Exactly 92:[=NORMDIST(92,$B$1,$B$2,FALSE)]\n",
    "Probability of 92 or less:[=NORMDIST(92,$B$1,$B$2,TRUE)]\n",
    "---------------------------------------------\n",
    "68% of values below:[=NORMINV(0.68,B1,B2)]\n",
    "83% of values below:[=NORMINV(0.83,B1,B2)]\n",
    "\"\"\""
   ]
  },
  {
   "cell_type": "code",
   "execution_count": 29,
   "id": "14d4e75e-b608-4f51-a8d2-34485de0db4d",
   "metadata": {},
   "outputs": [
    {
     "data": {
      "text/plain": [
       "'\\nNORMDIST-function:-Returns The Normal Distribution for the specified Mean and Standard Deviation.\\nNORMDIST-function:-إرجاع التوزيع الطبيعي للمتوسط \\u200b\\u200bوالانحراف المعياري المحددين.\\n'"
      ]
     },
     "execution_count": 29,
     "metadata": {},
     "output_type": "execute_result"
    }
   ],
   "source": [
    "\"\"\"\n",
    "NORMDIST-function:-Returns The Normal Distribution for the specified Mean and Standard Deviation.\n",
    "NORMDIST-function:-إرجاع التوزيع الطبيعي للمتوسط ​​والانحراف المعياري المحددين.\n",
    "\"\"\""
   ]
  },
  {
   "cell_type": "code",
   "execution_count": 37,
   "id": "303cd871-081a-4eb8-a1a1-9af838162631",
   "metadata": {},
   "outputs": [
    {
     "data": {
      "text/plain": [
       "'\\nNORMINV-function:-Returns The Inverse of The Normal Cumulative Distribution for the specified Mean and Standard Deviation.\\n>>Inverse of The Normal Cumulative Distribution.\\nمعكوس التوزيع التراكمي الطبيعي\\n'"
      ]
     },
     "execution_count": 37,
     "metadata": {},
     "output_type": "execute_result"
    }
   ],
   "source": [
    "\"\"\"\n",
    "NORMINV-function:-Returns The Inverse of The Normal Cumulative Distribution for the specified Mean and Standard Deviation.\n",
    ">>Inverse of The Normal Cumulative Distribution.\n",
    "معكوس التوزيع التراكمي الطبيعي\n",
    "\"\"\""
   ]
  },
  {
   "cell_type": "code",
   "execution_count": 38,
   "id": "98876f62-5796-42ff-8bcd-dde866dedf48",
   "metadata": {},
   "outputs": [
    {
     "data": {
      "text/plain": [
       "'020 Using The Exponential Distribution'"
      ]
     },
     "execution_count": 38,
     "metadata": {},
     "output_type": "execute_result"
    }
   ],
   "source": [
    "\"020 Using The Exponential Distribution\""
   ]
  },
  {
   "cell_type": "code",
   "execution_count": 39,
   "id": "18c50d6d-d439-442c-8084-cb7d5f0f2731",
   "metadata": {},
   "outputs": [
    {
     "data": {
      "text/plain": [
       "'Exercise Files > Chapter04 > Exponential.xlsx'"
      ]
     },
     "execution_count": 39,
     "metadata": {},
     "output_type": "execute_result"
    }
   ],
   "source": [
    "\"Exercise Files > Chapter04 > Exponential.xlsx\""
   ]
  },
  {
   "cell_type": "code",
   "execution_count": 40,
   "id": "371c748f-16a2-4abc-b556-41f1b601316e",
   "metadata": {},
   "outputs": [
    {
     "data": {
      "text/plain": [
       "'\\n1>>Minutes.\\n2>>Probability.\\n3>>Average.\\n4>>Between 8 and 12\\n'"
      ]
     },
     "execution_count": 40,
     "metadata": {},
     "output_type": "execute_result"
    }
   ],
   "source": [
    "\"\"\"\n",
    "1>>Minutes.\n",
    "2>>Probability.\n",
    "3>>Average.\n",
    "4>>Between 8 and 12\n",
    "\"\"\""
   ]
  },
  {
   "cell_type": "code",
   "execution_count": 44,
   "id": "dd092593-176a-49dd-9a1c-6431e7ebc8b5",
   "metadata": {},
   "outputs": [
    {
     "data": {
      "text/plain": [
       "'\\n=EXPONDIST(a2,1/$E$1,FALSE)\\n---------------------------\\n=EXPONDIST(A2,1/$E$1,FALSE)\\n---------------------------\\nEXPONDIST function:-Returns The Exponential Distribution.\\nإرجاع التوزيع الأسي.\\n---------------------------\\nBetween 8 and 12:[=b13-b9]\\n'"
      ]
     },
     "execution_count": 44,
     "metadata": {},
     "output_type": "execute_result"
    }
   ],
   "source": [
    "\"\"\"\n",
    "=EXPONDIST(a2,1/$E$1,FALSE)\n",
    "---------------------------\n",
    "=EXPONDIST(A2,1/$E$1,FALSE)\n",
    "---------------------------\n",
    "EXPONDIST function:-Returns The Exponential Distribution.\n",
    "إرجاع التوزيع الأسي.\n",
    "---------------------------\n",
    "Between 8 and 12:[=b13-b9]\n",
    "\"\"\""
   ]
  },
  {
   "cell_type": "code",
   "execution_count": 46,
   "id": "b4ed19c5-f568-4dd3-b0a2-2893b65d3af9",
   "metadata": {},
   "outputs": [
    {
     "data": {
      "text/plain": [
       "'Using The Exponential Distributionاستخدام التوزيع الأسي'"
      ]
     },
     "execution_count": 46,
     "metadata": {},
     "output_type": "execute_result"
    }
   ],
   "source": [
    "\"Using The Exponential Distributionاستخدام التوزيع الأسي\""
   ]
  },
  {
   "cell_type": "code",
   "execution_count": 47,
   "id": "1cb3c192-1196-4914-938f-8b6de7d738e6",
   "metadata": {},
   "outputs": [
    {
     "data": {
      "text/plain": [
       "'Exponential.xlsx'"
      ]
     },
     "execution_count": 47,
     "metadata": {},
     "output_type": "execute_result"
    }
   ],
   "source": [
    "\"Exponential.xlsx\""
   ]
  },
  {
   "cell_type": "code",
   "execution_count": 50,
   "id": "94281479-20c7-434c-a4f1-72c5a2961e1a",
   "metadata": {},
   "outputs": [
    {
     "data": {
      "text/plain": [
       "'\\n1>>[=EXPONDIST(Value,1/Average,FALSE)]<<\\n2>>[=EXPONDIST(A2,1/$E$1,TRUE)]<<\\n3>>[=B13-B9]<<Between 8 and 12>>14.81%\\n'"
      ]
     },
     "execution_count": 50,
     "metadata": {},
     "output_type": "execute_result"
    }
   ],
   "source": [
    "\"\"\"\n",
    "1>>[=EXPONDIST(Value,1/Average,FALSE)]<<\n",
    "2>>[=EXPONDIST(A2,1/$E$1,TRUE)]<<\n",
    "3>>[=B13-B9]<<Between 8 and 12>>14.81%\n",
    "\"\"\""
   ]
  },
  {
   "cell_type": "code",
   "execution_count": 52,
   "id": "89a3cdab-804b-4638-a04d-a229be29ba49",
   "metadata": {},
   "outputs": [
    {
     "data": {
      "text/plain": [
       "'021 Using A Uniform Distributionاستخدام التوزيع الموحد'"
      ]
     },
     "execution_count": 52,
     "metadata": {},
     "output_type": "execute_result"
    }
   ],
   "source": [
    "\"021 Using A Uniform Distributionاستخدام التوزيع الموحد\""
   ]
  },
  {
   "cell_type": "code",
   "execution_count": 59,
   "id": "921eabac-1533-4169-af63-9de9764d1f20",
   "metadata": {},
   "outputs": [
    {
     "data": {
      "text/plain": [
       "'\\n>>Uniform Probabilities<<\\nMinimum-Maximum-#Values-Value1-Value2-Real Value;\\n'"
      ]
     },
     "execution_count": 59,
     "metadata": {},
     "output_type": "execute_result"
    }
   ],
   "source": [
    "\"\"\"\n",
    ">>Uniform Probabilities<<\n",
    "Minimum-Maximum-#Values-Value1-Value2-Real Value;\n",
    "\"\"\""
   ]
  },
  {
   "cell_type": "code",
   "execution_count": 60,
   "id": "d3d358d4-1527-4c60-87c6-f92c978a9fa1",
   "metadata": {},
   "outputs": [
    {
     "data": {
      "text/plain": [
       "'Uniform<->Probabilities'"
      ]
     },
     "execution_count": 60,
     "metadata": {},
     "output_type": "execute_result"
    }
   ],
   "source": [
    "\"Uniform<->Probabilities\""
   ]
  },
  {
   "cell_type": "code",
   "execution_count": 61,
   "id": "103ef45e-fc83-460e-8270-3e26696e4659",
   "metadata": {},
   "outputs": [
    {
     "data": {
      "text/plain": [
       "'\\nMinimum:1\\nMaximum:25\\n#Values:[=b4-b3+1]\\nValue1:[=RANDBETWEEN($B$3,$B$4)]\\nValue2:\\nRealValue:[=rand()]\\nProbability Of Value 1:[=1/b5]\\nProbability of Value 1 or Value 2:[=E3+E3]\\nProbability of Value 1 and Value 2:[=E3*E3]\\n'"
      ]
     },
     "execution_count": 61,
     "metadata": {},
     "output_type": "execute_result"
    }
   ],
   "source": [
    "\"\"\"\n",
    "Minimum:1\n",
    "Maximum:25\n",
    "#Values:[=b4-b3+1]\n",
    "Value1:[=RANDBETWEEN($B$3,$B$4)]\n",
    "Value2:\n",
    "RealValue:[=rand()]\n",
    "Probability Of Value 1:[=1/b5]\n",
    "Probability of Value 1 or Value 2:[=E3+E3]\n",
    "Probability of Value 1 and Value 2:[=E3*E3]\n",
    "\"\"\""
   ]
  },
  {
   "cell_type": "code",
   "execution_count": 62,
   "id": "52a82119-a0c7-499c-b662-bc32d7549487",
   "metadata": {},
   "outputs": [
    {
     "data": {
      "text/plain": [
       "'Exercise Files > Chapter04 > Uniform.xlsx'"
      ]
     },
     "execution_count": 62,
     "metadata": {},
     "output_type": "execute_result"
    }
   ],
   "source": [
    "\"Exercise Files > Chapter04 > Uniform.xlsx\""
   ]
  },
  {
   "cell_type": "code",
   "execution_count": 7,
   "id": "3dc8125d-b5f1-45da-9193-6ba66cd0f577",
   "metadata": {},
   "outputs": [
    {
     "data": {
      "text/plain": [
       "'\\n>>Uniform.xlsx<<\\n1>>Uniform-Probabilities<<\\n2>>Minimum:1\\n3>>Maximum:25\\n4>>#Values:25>>[=B4 - B3 + 1]\\n5>>Value1:8>>[=RANDBETWEEN($B$3,$B$4)]\\n6>>Value:24>>[=RANDBETWEEN($B$3,$B$4)]\\n7>>Real Value>>[=RAND()]\\n8>>Probability of Value 1>>[=1/B5]\\n9>>Probability of Value 1 or Value 2>>[=E3 + E3]\\n10>>Probability of Value 1 and Value 2>>[=E3 * E3]\\n--------------------------------------------------\\nRANDBETWEEN:-Returns A Random Integer Number Between The Numbers You Specify.\\nRAND:-Generating-Random-Numbers[توليد أرقام عشوائية.].\\nتوليد أرقام عشوائية.\\n'"
      ]
     },
     "execution_count": 7,
     "metadata": {},
     "output_type": "execute_result"
    }
   ],
   "source": [
    "\"\"\"\n",
    ">>Uniform.xlsx<<\n",
    "1>>Uniform-Probabilities<<\n",
    "2>>Minimum:1\n",
    "3>>Maximum:25\n",
    "4>>#Values:25>>[=B4 - B3 + 1]\n",
    "5>>Value1:8>>[=RANDBETWEEN($B$3,$B$4)]\n",
    "6>>Value:24>>[=RANDBETWEEN($B$3,$B$4)]\n",
    "7>>Real Value>>[=RAND()]\n",
    "8>>Probability of Value 1>>[=1/B5]\n",
    "9>>Probability of Value 1 or Value 2>>[=E3 + E3]\n",
    "10>>Probability of Value 1 and Value 2>>[=E3 * E3]\n",
    "--------------------------------------------------\n",
    "RANDBETWEEN:-Returns A Random Integer Number Between The Numbers You Specify.\n",
    "RAND:-Generating-Random-Numbers[توليد أرقام عشوائية.].\n",
    "توليد أرقام عشوائية.\n",
    "\"\"\""
   ]
  },
  {
   "cell_type": "code",
   "execution_count": 8,
   "id": "6648b45f-aee8-43ce-964e-b0c747c003df",
   "metadata": {},
   "outputs": [
    {
     "data": {
      "text/plain": [
       "'022 Using The Bi_Nomial Distribution'"
      ]
     },
     "execution_count": 8,
     "metadata": {},
     "output_type": "execute_result"
    }
   ],
   "source": [
    "\"022 Using The Bi_Nomial Distribution\""
   ]
  },
  {
   "cell_type": "code",
   "execution_count": 9,
   "id": "a46e0824-da47-4d78-b6d6-fbe9c40d660a",
   "metadata": {
    "scrolled": true
   },
   "outputs": [
    {
     "data": {
      "text/plain": [
       "'022 Using The Bi-Nomial Distribution-توزيع ثنائي'"
      ]
     },
     "execution_count": 9,
     "metadata": {},
     "output_type": "execute_result"
    }
   ],
   "source": [
    "\"022 Using The Bi-Nomial Distribution-توزيع ثنائي\""
   ]
  },
  {
   "cell_type": "code",
   "execution_count": 10,
   "id": "03cfc3b5-d2b4-4630-bec2-c0fd5939f181",
   "metadata": {},
   "outputs": [
    {
     "data": {
      "text/plain": [
       "'Exercise Files > Chapter04 > Binomial.xlsx'"
      ]
     },
     "execution_count": 10,
     "metadata": {},
     "output_type": "execute_result"
    }
   ],
   "source": [
    "\"Exercise Files > Chapter04 > Binomial.xlsx\""
   ]
  },
  {
   "cell_type": "code",
   "execution_count": 12,
   "id": "78c8286e-7259-4ce9-93b6-bc03830bf877",
   "metadata": {},
   "outputs": [
    {
     "data": {
      "text/plain": [
       "'BINOMDIST-function:-Returns-Binomial-Distribution-Probability.التوزيع، الاحتمالية.'"
      ]
     },
     "execution_count": 12,
     "metadata": {},
     "output_type": "execute_result"
    }
   ],
   "source": [
    "\"BINOMDIST-function:-Returns-Binomial-Distribution-Probability.التوزيع، الاحتمالية.\""
   ]
  },
  {
   "cell_type": "code",
   "execution_count": 17,
   "id": "99ee4f2f-cd43-4d26-b2b8-d9afcdd9eb24",
   "metadata": {},
   "outputs": [
    {
     "data": {
      "text/plain": [
       "'\\n1>>[=BINOMDIST(a5,$B$2,$B$1,FALSE)]\\nProbability of Success>>$B$1;\\nNumber-of-Trials>>$B$2;\\nSuccesses>>a5;\\n--------------\\n=BINOMDIST(A6,$B$2,$B$1,TRUE)\\n--------------\\n=BINOMDIST(A5,$B$2,$B$1,TRUE)\\n--------------\\n'"
      ]
     },
     "execution_count": 17,
     "metadata": {},
     "output_type": "execute_result"
    }
   ],
   "source": [
    "\"\"\"\n",
    "1>>[=BINOMDIST(a5,$B$2,$B$1,FALSE)]\n",
    "Probability of Success>>$B$1;\n",
    "Number-of-Trials>>$B$2;\n",
    "Successes>>a5;\n",
    "--------------\n",
    "=BINOMDIST(A6,$B$2,$B$1,TRUE)\n",
    "--------------\n",
    "=BINOMDIST(A5,$B$2,$B$1,TRUE)\n",
    "--------------\n",
    "\"\"\""
   ]
  },
  {
   "cell_type": "code",
   "execution_count": 16,
   "id": "c085ac8f-45e5-473d-b7c1-209e9a55342f",
   "metadata": {},
   "outputs": [
    {
     "data": {
      "text/plain": [
       "'023>>Using The Poisson-Distributionباستخدام توزيع بواسون'"
      ]
     },
     "execution_count": 16,
     "metadata": {},
     "output_type": "execute_result"
    }
   ],
   "source": [
    "\"023>>Using The Poisson-Distributionباستخدام توزيع بواسون\""
   ]
  },
  {
   "cell_type": "code",
   "execution_count": 18,
   "id": "4c0bafb9-eed4-47b0-a76e-721693fa6ff8",
   "metadata": {},
   "outputs": [
    {
     "data": {
      "text/plain": [
       "'Exercise Files > Chapter04 > Poisson.xlsx'"
      ]
     },
     "execution_count": 18,
     "metadata": {},
     "output_type": "execute_result"
    }
   ],
   "source": [
    "\"Exercise Files > Chapter04 > Poisson.xlsx\""
   ]
  },
  {
   "cell_type": "code",
   "execution_count": 22,
   "id": "e51b9972-7140-43e2-935b-410eb4d538c3",
   "metadata": {},
   "outputs": [
    {
     "data": {
      "text/plain": [
       "'\\nCell-Reference>>Press\"F4\"Key;\\nA>>Mean<<\\nB>>[=poisson(a2,$B$1,FALSE)]\\nC>>[=poisson(a2,$B$1,TRUE)]\\n----------------------------\\n=POISSON(A2,$B$1,FALSE)\\n=POISSON(A2,$B$1,TRUE)\\n----------------------------\\n'"
      ]
     },
     "execution_count": 22,
     "metadata": {},
     "output_type": "execute_result"
    }
   ],
   "source": [
    "\"\"\"\n",
    "Cell-Reference>>Press\"F4\"Key;\n",
    "A>>Mean<<\n",
    "B>>[=poisson(a2,$B$1,FALSE)]\n",
    "C>>[=poisson(a2,$B$1,TRUE)]\n",
    "----------------------------\n",
    "=POISSON(A2,$B$1,FALSE)\n",
    "=POISSON(A2,$B$1,TRUE)\n",
    "----------------------------\n",
    "\"\"\""
   ]
  },
  {
   "cell_type": "code",
   "execution_count": 23,
   "id": "e4bff845-094b-47ce-afcb-f2f1e70fadb1",
   "metadata": {},
   "outputs": [
    {
     "data": {
      "text/plain": [
       "'024>>Visualizing What Co-variance Means'"
      ]
     },
     "execution_count": 23,
     "metadata": {},
     "output_type": "execute_result"
    }
   ],
   "source": [
    "\"024>>Visualizing What Co-variance Means\""
   ]
  },
  {
   "cell_type": "code",
   "execution_count": 24,
   "id": "259c7892-ea73-4b1a-a766-9c8c173bffb3",
   "metadata": {},
   "outputs": [
    {
     "data": {
      "text/plain": [
       "\"\\n1>>Calculating Co-variance.\\n2>>Covariance-Formula-is:Σ(x-x)(y-y)/n\\n#0:data sets don't vary together.\\n#Positive:Same direction.\\n#Negative:Opposite directions. \\n\""
      ]
     },
     "execution_count": 24,
     "metadata": {},
     "output_type": "execute_result"
    }
   ],
   "source": [
    "\"\"\"\n",
    "1>>Calculating Co-variance.\n",
    "2>>Covariance-Formula-is:Σ(x-x)(y-y)/n\n",
    "#0:data sets don't vary together.\n",
    "#Positive:Same direction.\n",
    "#Negative:Opposite directions. \n",
    "\"\"\""
   ]
  },
  {
   "cell_type": "code",
   "execution_count": 26,
   "id": "ae87023c-d5bc-43e0-abc6-37804296adf2",
   "metadata": {},
   "outputs": [
    {
     "data": {
      "text/plain": [
       "'Often>>convert Co-variances to Cor-relations'"
      ]
     },
     "execution_count": 26,
     "metadata": {},
     "output_type": "execute_result"
    }
   ],
   "source": [
    "\"Often>>convert Co-variances to Cor-relations\""
   ]
  },
  {
   "cell_type": "code",
   "execution_count": 27,
   "id": "5b6a0cb1-8c54-4563-9b81-6ad0d7cf7841",
   "metadata": {},
   "outputs": [
    {
     "data": {
      "text/plain": [
       "'025>>Calculating Co-variance between two Columns of Data'"
      ]
     },
     "execution_count": 27,
     "metadata": {},
     "output_type": "execute_result"
    }
   ],
   "source": [
    "\"025>>Calculating Co-variance between two Columns of Data\""
   ]
  },
  {
   "cell_type": "code",
   "execution_count": 28,
   "id": "3fcb7304-980b-44e8-8d05-079db6534dbf",
   "metadata": {},
   "outputs": [
    {
     "data": {
      "text/plain": [
       "'Column1|Column2|Covariance|Covariance Formula'"
      ]
     },
     "execution_count": 28,
     "metadata": {},
     "output_type": "execute_result"
    }
   ],
   "source": [
    "\"Column1|Column2|Covariance|Covariance Formula\""
   ]
  },
  {
   "cell_type": "code",
   "execution_count": 2,
   "id": "10b33148-e85e-4e09-9646-72fa4449a4e5",
   "metadata": {},
   "outputs": [
    {
     "data": {
      "text/plain": [
       "'\\nColumn1-Column2-Covariance;\\n---------------------------\\nCovariance:>[=(a2 - AVERAGE($A$2:$A$11))*(b2-AVERAGE($B$2:$B$11))]\\n---------------------------\\nAVERAGE(c2:c11);\\n---------------------------\\nCovariance-Formula.\\n>>[=COVAR(a2:a11,b2:b11)]<<\\n---------------------------\\nCovariance-Formula:[=COVAR(a2:a11,b2:b11)]\\n---------------------------\\n----Calculate Covariance---\\n=COVAR(A2:A11,B2:B11)\\n---------------------------\\n=(A2 - AVERAGE($A$2:$A$11))*(B2-AVERAGE($B$2:$B$11))\\n=AVERAGE(C2:C11)\\n'"
      ]
     },
     "execution_count": 2,
     "metadata": {},
     "output_type": "execute_result"
    }
   ],
   "source": [
    "\"\"\"\n",
    "Column1-Column2-Covariance;\n",
    "---------------------------\n",
    "Covariance:>[=(a2 - AVERAGE($A$2:$A$11))*(b2-AVERAGE($B$2:$B$11))]\n",
    "---------------------------\n",
    "AVERAGE(c2:c11);\n",
    "---------------------------\n",
    "Covariance-Formula.\n",
    ">>[=COVAR(a2:a11,b2:b11)]<<\n",
    "---------------------------\n",
    "Covariance-Formula:[=COVAR(a2:a11,b2:b11)]\n",
    "---------------------------\n",
    "----Calculate Covariance---\n",
    "=COVAR(A2:A11,B2:B11)\n",
    "---------------------------\n",
    "=(A2 - AVERAGE($A$2:$A$11))*(B2-AVERAGE($B$2:$B$11))\n",
    "=AVERAGE(C2:C11)\n",
    "\"\"\""
   ]
  },
  {
   "cell_type": "code",
   "execution_count": 3,
   "id": "354afc83-cdfd-4dbf-85b8-3848234581d0",
   "metadata": {},
   "outputs": [
    {
     "data": {
      "text/plain": [
       "'025-Calculating Covariance Among Multiple Pairs of Columns'"
      ]
     },
     "execution_count": 3,
     "metadata": {},
     "output_type": "execute_result"
    }
   ],
   "source": [
    "\"025-Calculating Covariance Among Multiple Pairs of Columns\""
   ]
  },
  {
   "cell_type": "code",
   "execution_count": 5,
   "id": "b035a492-8023-45dd-9545-ef5c6c609ffd",
   "metadata": {},
   "outputs": [
    {
     "data": {
      "text/plain": [
       "'\\nColumn1>>[=COVAR($A$2:$A$11,a2:a11)]>>Drop To Right;\\nColumn2>>[=COVAR($b$2:$b$11,A2:A11)]>>Drop To Right;\\nColumn3>>[=COVAR($c$2:$c$11,A2:A11)]>>Drop To Right;\\ncolumn4>>[=COVAR($d$2:$d$11,A2:A11)]>>Drop To Right;\\n'"
      ]
     },
     "execution_count": 5,
     "metadata": {},
     "output_type": "execute_result"
    }
   ],
   "source": [
    "\"Multiple Covariance.xlsx\"\n",
    "\"\"\"\n",
    "Column1>>[=COVAR($A$2:$A$11,a2:a11)]>>Drop To Right;\n",
    "Column2>>[=COVAR($b$2:$b$11,A2:A11)]>>Drop To Right;\n",
    "Column3>>[=COVAR($c$2:$c$11,A2:A11)]>>Drop To Right;\n",
    "column4>>[=COVAR($d$2:$d$11,A2:A11)]>>Drop To Right;\n",
    "\"\"\""
   ]
  },
  {
   "cell_type": "code",
   "execution_count": 6,
   "id": "5c98ad6b-0eed-4422-964c-dc82fab89010",
   "metadata": {},
   "outputs": [
    {
     "name": "stdout",
     "output_type": "stream",
     "text": [
      "=COVAR($A$2:$A$11,A2:A11)\n",
      "=COVAR($B$2:$B$11,A2:A11)\n",
      "=COVAR($C$2:$C$11,A2:A11)\n",
      "=COVAR($D$2:$D$11,A2:A11)\n"
     ]
    }
   ],
   "source": [
    "print(\"=COVAR($A$2:$A$11,A2:A11)\")\n",
    "print(\"=COVAR($B$2:$B$11,A2:A11)\")\n",
    "print(\"=COVAR($C$2:$C$11,A2:A11)\")\n",
    "print(\"=COVAR($D$2:$D$11,A2:A11)\")"
   ]
  },
  {
   "cell_type": "code",
   "execution_count": 7,
   "id": "6230735c-541c-46f5-9177-e805547625a5",
   "metadata": {},
   "outputs": [
    {
     "data": {
      "text/plain": [
       "'027(Visualizing What Correlation Means ?)'"
      ]
     },
     "execution_count": 7,
     "metadata": {},
     "output_type": "execute_result"
    }
   ],
   "source": [
    "\"027(Visualizing What Correlation Means ?)\""
   ]
  },
  {
   "cell_type": "code",
   "execution_count": 8,
   "id": "030c7571-efb8-4ece-a978-11fb255ca6c2",
   "metadata": {},
   "outputs": [
    {
     "data": {
      "text/plain": [
       "'028)Calculating correlation between two columns of data.'"
      ]
     },
     "execution_count": 8,
     "metadata": {},
     "output_type": "execute_result"
    }
   ],
   "source": [
    "\"028)Calculating correlation between two columns of data.\""
   ]
  },
  {
   "cell_type": "code",
   "execution_count": 9,
   "id": "5ae1b96b-ffc2-4ef5-9e74-9f2db07675dc",
   "metadata": {},
   "outputs": [
    {
     "data": {
      "text/plain": [
       "'ExerciseFiles>Chapter05>SingleCorrelation.xlsx'"
      ]
     },
     "execution_count": 9,
     "metadata": {},
     "output_type": "execute_result"
    }
   ],
   "source": [
    "\"ExerciseFiles>Chapter05>SingleCorrelation.xlsx\""
   ]
  },
  {
   "cell_type": "code",
   "execution_count": 11,
   "id": "edbf4457-d464-46f8-804d-cd594d4bbe4f",
   "metadata": {},
   "outputs": [
    {
     "name": "stdout",
     "output_type": "stream",
     "text": [
      "Column1|Column2|CorrelationFormula\n",
      "=CORREL(A3:A12,B3:B12\n",
      "=CORREL(A3:A12,B3:B12)\n"
     ]
    }
   ],
   "source": [
    "print(\"Column1|Column2|CorrelationFormula\")\n",
    "print(\"=CORREL(A3:A12,B3:B12\")\n",
    "print(\"=CORREL(A3:A12,B3:B12)\")"
   ]
  },
  {
   "cell_type": "code",
   "execution_count": 12,
   "id": "49d31ff0-488e-40d4-b282-4e88bf3ab18f",
   "metadata": {},
   "outputs": [
    {
     "data": {
      "text/plain": [
       "'029)Calculating Cor_relation Among Multiple Pairs Of Columns'"
      ]
     },
     "execution_count": 12,
     "metadata": {},
     "output_type": "execute_result"
    }
   ],
   "source": [
    "\"029)Calculating Cor_relation Among Multiple Pairs Of Columns\""
   ]
  },
  {
   "cell_type": "code",
   "execution_count": 14,
   "id": "4ad4e809-7377-42be-a1c3-4dff58a2200c",
   "metadata": {},
   "outputs": [
    {
     "data": {
      "text/plain": [
       "'\\n>>Correlation Formulas<<\\n1>>=CORREL($A$3:$A$12,A3:A12)\\n2>>=CORREL($B$3:$B$12,A3:A12)\\n3>>=CORREL($C$3:$C$12,A3:A12)\\n4>>=CORREL($D$3:$D$12,A3:A12)\\n'"
      ]
     },
     "execution_count": 14,
     "metadata": {},
     "output_type": "execute_result"
    }
   ],
   "source": [
    "\"\"\"\n",
    ">>Correlation Formulas<<\n",
    "1>>=CORREL($A$3:$A$12,A3:A12)\n",
    "2>>=CORREL($B$3:$B$12,A3:A12)\n",
    "3>>=CORREL($C$3:$C$12,A3:A12)\n",
    "4>>=CORREL($D$3:$D$12,A3:A12)\n",
    "\"\"\""
   ]
  },
  {
   "cell_type": "code",
   "execution_count": 15,
   "id": "386ce423-fdb8-4ced-b563-63d326d4b0ba",
   "metadata": {},
   "outputs": [
    {
     "data": {
      "text/plain": [
       "'030>>Introducing Bayesian Analysis<<'"
      ]
     },
     "execution_count": 15,
     "metadata": {},
     "output_type": "execute_result"
    }
   ],
   "source": [
    "\"030>>Introducing Bayesian Analysis<<\""
   ]
  },
  {
   "cell_type": "code",
   "execution_count": 1,
   "id": "75965d2c-fba8-447d-80bf-865c814c3009",
   "metadata": {},
   "outputs": [
    {
     "data": {
      "text/plain": [
       "'\\n1>>Descriptive Stats and Probabilities.\\n2>>Descriptive statistics provide Facts about your Data.\\n3>>Means, Medians, Variance, and Standard-Deviations.\\n'"
      ]
     },
     "execution_count": 1,
     "metadata": {},
     "output_type": "execute_result"
    }
   ],
   "source": [
    "\"\"\"\n",
    "1>>Descriptive Stats and Probabilities.\n",
    "2>>Descriptive statistics provide Facts about your Data.\n",
    "3>>Means, Medians, Variance, and Standard-Deviations.\n",
    "\"\"\""
   ]
  },
  {
   "cell_type": "code",
   "execution_count": 3,
   "id": "a63e47d6-4b22-4e6a-bae5-19213b5e2c61",
   "metadata": {},
   "outputs": [
    {
     "data": {
      "text/plain": [
       "'\\n>>Calculating-Probabilities<<\\nP(Blue|Blue) = 0.12 / (0.12 + 0.17) = 0.41, or 41%\\nP(Green|Blue) = 0.17 / (0.12 + 0.17) = 0.59, or 59%\\nP(Green|Green) = 0.68 / (0.68 + 0.03) = 0.96, or 96%\\nP(Blue|Green) = 0.03 / (0.68 + 0.03) = 0.04, or 4%\\n>>Total-Probability-Equal-One<<\\n'"
      ]
     },
     "execution_count": 3,
     "metadata": {},
     "output_type": "execute_result"
    }
   ],
   "source": [
    "\"\"\"\n",
    ">>Calculating-Probabilities<<\n",
    "P(Blue|Blue) = 0.12 / (0.12 + 0.17) = 0.41, or 41%\n",
    "P(Green|Blue) = 0.17 / (0.12 + 0.17) = 0.59, or 59%\n",
    "P(Green|Green) = 0.68 / (0.68 + 0.03) = 0.96, or 96%\n",
    "P(Blue|Green) = 0.03 / (0.68 + 0.03) = 0.04, or 4%\n",
    ">>Total-Probability-Equal-One<<\n",
    "\"\"\""
   ]
  },
  {
   "cell_type": "code",
   "execution_count": 4,
   "id": "ee52b840-6877-45b3-b78a-4334f0feefba",
   "metadata": {},
   "outputs": [
    {
     "data": {
      "text/plain": [
       "'Exercise-Files>Chapter06>Calculating.xlsx'"
      ]
     },
     "execution_count": 4,
     "metadata": {},
     "output_type": "execute_result"
    }
   ],
   "source": [
    "\"Exercise-Files>Chapter06>Calculating.xlsx\""
   ]
  },
  {
   "cell_type": "code",
   "execution_count": 5,
   "id": "e63b3436-a188-4c7b-8f6a-d4055fcf331a",
   "metadata": {},
   "outputs": [
    {
     "data": {
      "text/plain": [
       "'Bayesian Analysis'"
      ]
     },
     "execution_count": 5,
     "metadata": {},
     "output_type": "execute_result"
    }
   ],
   "source": [
    "\"Bayesian Analysis\""
   ]
  },
  {
   "cell_type": "code",
   "execution_count": 6,
   "id": "1d719f7a-ab0c-4f80-9b7c-0a5c4d5daa50",
   "metadata": {},
   "outputs": [
    {
     "data": {
      "text/plain": [
       "'\\n=B3\\n=1-B6\\n=B4\\n=1 - B4\\n=B6*B9\\n=B7*B10\\n=B6*B10\\n=B7*B9\\n=F5/(F4+F5)\\n=E4/(E4+E5)\\n'"
      ]
     },
     "execution_count": 6,
     "metadata": {},
     "output_type": "execute_result"
    }
   ],
   "source": [
    "\"\"\"\n",
    "=B3\n",
    "=1-B6\n",
    "=B4\n",
    "=1 - B4\n",
    "=B6*B9\n",
    "=B7*B10\n",
    "=B6*B10\n",
    "=B7*B9\n",
    "=F5/(F4+F5)\n",
    "=E4/(E4+E5)\n",
    "\"\"\""
   ]
  },
  {
   "cell_type": "code",
   "execution_count": 17,
   "id": "c4798c4c-2196-4db1-9177-e4dbf8b43fd6",
   "metadata": {},
   "outputs": [
    {
     "data": {
      "text/plain": [
       "'031-Analyzing A Sample Problem'"
      ]
     },
     "execution_count": 17,
     "metadata": {},
     "output_type": "execute_result"
    }
   ],
   "source": [
    "\"031-Analyzing A Sample Problem\""
   ]
  },
  {
   "cell_type": "code",
   "execution_count": 18,
   "id": "b6d2578e-263e-401b-86e6-9e2644f99d56",
   "metadata": {},
   "outputs": [
    {
     "data": {
      "text/plain": [
       "'033>Calculating Bayesian probabilities in Excel'"
      ]
     },
     "execution_count": 18,
     "metadata": {},
     "output_type": "execute_result"
    }
   ],
   "source": [
    "\"033>Calculating Bayesian probabilities in Excel\""
   ]
  },
  {
   "cell_type": "code",
   "execution_count": 56,
   "id": "2f1d9b6d-18d5-4c4f-8e17-cc6b911bebff",
   "metadata": {},
   "outputs": [
    {
     "data": {
      "text/plain": [
       "'In-End-Collect-Functions-وافهمها-Collect-It'"
      ]
     },
     "execution_count": 56,
     "metadata": {},
     "output_type": "execute_result"
    }
   ],
   "source": [
    "\"In-End-Collect-Functions-وافهمها-Collect-It\""
   ]
  },
  {
   "cell_type": "code",
   "execution_count": 57,
   "id": "0bbb4404-2933-45d4-85c8-ff8c7ae69bfd",
   "metadata": {},
   "outputs": [
    {
     "data": {
      "text/plain": [
       "'In-End-Understand-A-Formulas-And-Collect-It'"
      ]
     },
     "execution_count": 57,
     "metadata": {},
     "output_type": "execute_result"
    }
   ],
   "source": [
    "\"In-End-Understand-A-Formulas-And-Collect-It\""
   ]
  },
  {
   "cell_type": "code",
   "execution_count": null,
   "id": "d75b56f8-adaf-4150-b951-b0f54859a060",
   "metadata": {},
   "outputs": [],
   "source": []
  },
  {
   "cell_type": "code",
   "execution_count": null,
   "id": "ddb5025f-32ff-435b-9ce3-bb8f9deecd2b",
   "metadata": {},
   "outputs": [],
   "source": []
  }
 ],
 "metadata": {
  "kernelspec": {
   "display_name": "Python 3 (ipykernel)",
   "language": "python",
   "name": "python3"
  },
  "language_info": {
   "codemirror_mode": {
    "name": "ipython",
    "version": 3
   },
   "file_extension": ".py",
   "mimetype": "text/x-python",
   "name": "python",
   "nbconvert_exporter": "python",
   "pygments_lexer": "ipython3",
   "version": "3.11.7"
  }
 },
 "nbformat": 4,
 "nbformat_minor": 5
}
